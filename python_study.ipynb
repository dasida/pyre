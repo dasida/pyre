{
 "cells": [
  {
   "cell_type": "markdown",
   "metadata": {},
   "source": [
    "print(\"Hello, world!\")\n"
   ]
  },
  {
   "cell_type": "code",
   "execution_count": 1,
   "metadata": {},
   "outputs": [
    {
     "name": "stdout",
     "output_type": "stream",
     "text": [
      "Hello, world!\n"
     ]
    }
   ],
   "source": [
    "print(\"Hello, world!\")"
   ]
  },
  {
   "cell_type": "code",
   "execution_count": 7,
   "metadata": {},
   "outputs": [
    {
     "name": "stdout",
     "output_type": "stream",
     "text": [
      "hi\n"
     ]
    }
   ],
   "source": [
    "print(\"hi\")"
   ]
  },
  {
   "cell_type": "code",
   "execution_count": 6,
   "metadata": {},
   "outputs": [
    {
     "name": "stdout",
     "output_type": "stream",
     "text": [
      "[1, 2, 3, 4, 5]\n"
     ]
    }
   ],
   "source": [
    "a = [1,2,3,4,5]\n",
    "print(a)"
   ]
  },
  {
   "cell_type": "markdown",
   "metadata": {},
   "source": [
    "0부터 시작한다 : 0,1,2,3,4,5,6  \n",
    "끝은 -1부터 시작한다\n",
    "[5:10] 이러면 9까지 센다!!\n",
    "[:10] 이러면 0부터 시작해서 9까지니까, 결국 10개를 출력한다. "
   ]
  },
  {
   "cell_type": "markdown",
   "metadata": {},
   "source": [
    "#### 데이터가 쌓이는 구조\n",
    "a = (1,2,3,4,5)  \n",
    "b = a  \n",
    "b[2] = 100  \n",
    "print(a)  \n",
    "b를 바꿔도 a가 바뀌는 구조!  \n",
    "지정할 때 리스트의 데이터가 먼저 있고, 그 이름을 붙이는 식이다.. R과 근본적으로 다름  \n",
    "만약 영향을 안 주려면  \n",
    "b = list(a)  / b = a[:]"
   ]
  },
  {
   "cell_type": "code",
   "execution_count": null,
   "metadata": {},
   "outputs": [],
   "source": []
  },
  {
   "cell_type": "markdown",
   "metadata": {},
   "source": [
    "type에 속한 함수를 method라고 부른다  \n",
    "str.upper(), str.count(\"o\")\n",
    "\n",
    "method는 객체를 바꿔버리는 수도 있고, 타입마다 다르게 작동할 때도 있다. 주의.\n"
   ]
  },
  {
   "cell_type": "code",
   "execution_count": 11,
   "metadata": {},
   "outputs": [
    {
     "name": "stdout",
     "output_type": "stream",
     "text": [
      "poolhouse\n",
      "POOLHOUSE\n",
      "3\n",
      "0\n"
     ]
    }
   ],
   "source": [
    "# string to experiment with: place\n",
    "place = \"poolhouse\"\n",
    "# Use upper() on place: place_up\n",
    "place_up = place.upper()\n",
    "# Print out place and place_up\n",
    "print(place)\n",
    "print(place_up)\n",
    "# Print out the number of o's in place\n",
    "print(place.count(\"o\"))\n",
    "print(place_up.count(\"o\"))"
   ]
  },
  {
   "cell_type": "markdown",
   "metadata": {},
   "source": [
    "type()을 바꿔주는 함수들 : str(), bool(), int(), float()  \n",
    "조작 : 더하기는 그냥 + , 없애는 건 del(a[4])\n",
    "\n",
    "\n"
   ]
  },
  {
   "cell_type": "code",
   "execution_count": null,
   "metadata": {},
   "outputs": [],
   "source": []
  }
 ],
 "metadata": {
  "kernelspec": {
   "display_name": "Python 3",
   "language": "python",
   "name": "python3"
  },
  "language_info": {
   "codemirror_mode": {
    "name": "ipython",
    "version": 3
   },
   "file_extension": ".py",
   "mimetype": "text/x-python",
   "name": "python",
   "nbconvert_exporter": "python",
   "pygments_lexer": "ipython3",
   "version": "3.7.2"
  }
 },
 "nbformat": 4,
 "nbformat_minor": 2
}
